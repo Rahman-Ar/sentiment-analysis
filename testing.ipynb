{
 "cells": [
  {
   "cell_type": "code",
   "execution_count": 1,
   "metadata": {},
   "outputs": [],
   "source": [
    "import pickle\n",
    "\n",
    "# Load the saved pipeline\n",
    "with open('sent_pipeline_transformers.pkl', 'rb') as f:\n",
    "    sent_pipeline = pickle.load(f)\n"
   ]
  },
  {
   "cell_type": "code",
   "execution_count": 2,
   "metadata": {},
   "outputs": [
    {
     "name": "stdout",
     "output_type": "stream",
     "text": [
      "Review 1: This product is really great!\n",
      "Sentiment: POSITIVE | Score: 0.9998753070831299\n",
      "\n",
      "Review 2: I'm not satisfied with this purchase.\n",
      "Sentiment: NEGATIVE | Score: 0.9997089505195618\n"
     ]
    }
   ],
   "source": [
    "# Example text for sentiment analysis\n",
    "review1 = \"This product is really great!\"\n",
    "review2 = \"I'm not satisfied with this purchase.\"\n",
    "\n",
    "# Perform sentiment analysis\n",
    "result1 = sent_pipeline(review1)\n",
    "result2 = sent_pipeline(review2)\n",
    "\n",
    "# Print results\n",
    "print(\"Review 1:\", review1)\n",
    "print(\"Sentiment:\", result1[0]['label'], \"| Score:\", result1[0]['score'])\n",
    "print()\n",
    "\n",
    "print(\"Review 2:\", review2)\n",
    "print(\"Sentiment:\", result2[0]['label'], \"| Score:\", result2[0]['score'])\n"
   ]
  },
  {
   "cell_type": "code",
   "execution_count": null,
   "metadata": {},
   "outputs": [],
   "source": [
    "reviews = [\n",
    "    \"This product is really great!\",\n",
    "    \"I'm not satisfied with this purchase.\",\n",
    "    \"Amazing service! Fast delivery and excellent quality.\",\n",
    "    \"The item arrived damaged. Very disappointed.\",\n",
    "    \"Highly recommended! Will buy again.\",\n",
    "    \"Poor customer service. They never respond to inquiries.\",\n",
    "    \"The product doesn't work as expected.\",\n",
    "    \"Great value for money. Very happy with my purchase.\",\n",
    "    \"Terrible experience. The product was never delivered.\",\n",
    "    \"Average product. Nothing special.\",\n",
    "    \"Outstanding performance! Exceeded my expectations.\",\n",
    "    \"The worst product I've ever bought. Avoid at all costs.\",\n",
    "    \"Prompt delivery and well-packaged.\",\n",
    "    \"Not worth the price. Very overpriced.\",\n",
    "    \"Good product, but could be better.\",\n",
    "    \"Exceptional quality. Worth every penny.\",\n",
    "    \"Didn't meet my expectations. Disappointed.\",\n",
    "    \"Excellent customer support. They resolved my issue quickly.\",\n",
    "    \"Mediocre product. Expected better quality.\",\n",
    "    \"Fantastic product! Works perfectly.\"\n",
    "]\n"
   ]
  },
  {
   "cell_type": "code",
   "execution_count": null,
   "metadata": {},
   "outputs": [],
   "source": [
    "# Perform sentiment analysis for each review\n",
    "results = sent_pipeline(reviews)\n",
    "\n",
    "# Print results for each review\n",
    "for i, result in enumerate(results):\n",
    "    print(f\"Review {i+1}: {reviews[i]}\")\n",
    "    print(\"Sentiment:\", result['label'], \"| Score:\", result['score'])\n",
    "    print()\n"
   ]
  }
 ],
 "metadata": {
  "kernelspec": {
   "display_name": "Python 3 (ipykernel)",
   "language": "python",
   "name": "python3"
  },
  "language_info": {
   "codemirror_mode": {
    "name": "ipython",
    "version": 3
   },
   "file_extension": ".py",
   "mimetype": "text/x-python",
   "name": "python",
   "nbconvert_exporter": "python",
   "pygments_lexer": "ipython3",
   "version": "3.10.5"
  }
 },
 "nbformat": 4,
 "nbformat_minor": 4
}
